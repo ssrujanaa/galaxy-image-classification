{
 "cells": [
  {
   "cell_type": "code",
   "execution_count": 3,
   "metadata": {},
   "outputs": [],
   "source": [
    "import tensorflow as tf\n",
    "import numpy as np\n",
    "import pandas as pd\n",
    "import random\n",
    "from glob import glob\n",
    "from PIL import Image"
   ]
  },
  {
   "cell_type": "code",
   "execution_count": 81,
   "metadata": {},
   "outputs": [],
   "source": [
    "def get_images(data_dir,label_dir):\n",
    "    img_width=random.randint(170,241)\n",
    "    img_height=img_width\n",
    "    numpy_image = []\n",
    "    numpy_label = []\n",
    "\n",
    "    with tf.name_scope('input'):\n",
    "        label_list=label_dir\n",
    "        image_list=data_dir\n",
    "\n",
    "        temp = np.array([image_list, label_list])\n",
    "        temp = temp.transpose()\n",
    "        np.random.shuffle(temp)\n",
    "\n",
    "        image = tf.cast(image_list, tf.string)\n",
    "        label = tf.cast(label_list, tf.int32)\n",
    "        \n",
    "        input_queue = tf.data.Dataset.from_tensor_slices((image,label))\n",
    "\n",
    "        for ele in list(iter(input_queue)):\n",
    "            next_item = ele\n",
    "            # will show a pair <img tensor, label tensor>\n",
    "            print(next_item)\n",
    "\n",
    "            label = next_item[1]\n",
    "            label = tf.cast(label, tf.int32)\n",
    "\n",
    "            image_contents = tf.io.read_file(next_item[0])\n",
    "            image = tf.image.decode_jpeg(image_contents, channels=3)              \n",
    "\n",
    "            image = tf.cast(image, tf.float32)\n",
    "\n",
    "            image = tf.image.resize_with_crop_or_pad(image, img_width,  img_height)\n",
    "            image = tf.image.resize(image, [80, 80],method=tf.image.ResizeMethod.BILINEAR) \n",
    "\n",
    "            image = tf.cast(image, tf.float32)\n",
    "            \n",
    "            np.savez_compressed('train1_data.npz', label=image)\n",
    "            numpy_image.append(image)\n",
    "            numpy_label.append(label)\n",
    "\n",
    "        return numpy_image,numpy_label"
   ]
  },
  {
   "cell_type": "code",
   "execution_count": 82,
   "metadata": {},
   "outputs": [
    {
     "name": "stdout",
     "output_type": "stream",
     "text": [
      "(<tf.Tensor: shape=(), dtype=string, numpy=b'Class3_4.jpg'>, <tf.Tensor: shape=(), dtype=int32, numpy=3>)\n",
      "(<tf.Tensor: shape=(), dtype=string, numpy=b'Class4_0.jpg'>, <tf.Tensor: shape=(), dtype=int32, numpy=4>)\n"
     ]
    }
   ],
   "source": [
    "images = glob(\"Class*_*.jpg\")\n",
    "label = [3,4]\n",
    "image,label=get_images(images,label)"
   ]
  },
  {
   "cell_type": "code",
   "execution_count": 83,
   "metadata": {},
   "outputs": [],
   "source": [
    "data1 = np.load('train1_data.npz', 'r')"
   ]
  },
  {
   "cell_type": "code",
   "execution_count": null,
   "metadata": {},
   "outputs": [],
   "source": [
    "tensor.eval()"
   ]
  },
  {
   "cell_type": "code",
   "execution_count": null,
   "metadata": {},
   "outputs": [],
   "source": []
  },
  {
   "cell_type": "code",
   "execution_count": null,
   "metadata": {},
   "outputs": [],
   "source": []
  },
  {
   "cell_type": "code",
   "execution_count": null,
   "metadata": {},
   "outputs": [],
   "source": []
  },
  {
   "cell_type": "code",
   "execution_count": null,
   "metadata": {},
   "outputs": [],
   "source": []
  },
  {
   "cell_type": "code",
   "execution_count": null,
   "metadata": {},
   "outputs": [],
   "source": []
  },
  {
   "cell_type": "code",
   "execution_count": null,
   "metadata": {},
   "outputs": [],
   "source": []
  },
  {
   "cell_type": "code",
   "execution_count": null,
   "metadata": {},
   "outputs": [],
   "source": []
  }
 ],
 "metadata": {
  "kernelspec": {
   "display_name": "Python 3",
   "language": "python",
   "name": "python3"
  },
  "language_info": {
   "codemirror_mode": {
    "name": "ipython",
    "version": 3
   },
   "file_extension": ".py",
   "mimetype": "text/x-python",
   "name": "python",
   "nbconvert_exporter": "python",
   "pygments_lexer": "ipython3",
   "version": "3.6.8"
  }
 },
 "nbformat": 4,
 "nbformat_minor": 4
}
