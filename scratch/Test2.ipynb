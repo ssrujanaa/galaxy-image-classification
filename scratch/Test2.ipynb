{
 "cells": [
  {
   "cell_type": "code",
   "execution_count": 1,
   "metadata": {},
   "outputs": [],
   "source": [
    "import tensorflow as tf\n",
    "import numpy as np\n",
    "import pandas as pd\n",
    "import random\n",
    "from glob import glob\n",
    "from PIL import Image"
   ]
  },
  {
   "cell_type": "code",
   "execution_count": 138,
   "metadata": {},
   "outputs": [],
   "source": [
    "RANDOM_CROP_FACTOR = 2  #for dev purposes\n",
    "\n",
    "def read_galaxy(images, labels):\n",
    "    RANDOM_CROP_FACTOR = 2  #for dev purposes\n",
    "    random_crop = []\n",
    "    image_rot = []\n",
    "    random_flip = []\n",
    "    final = []\n",
    "    label_list1 =[]\n",
    "    label_list2=[]\n",
    "    numpy_dict = {}\n",
    "    \n",
    "    #data augmentation\n",
    "    for j in range(len(images)):\n",
    "        for i in range(RANDOM_CROP_FACTOR):\n",
    "            im = tf.convert_to_tensor(images[i], dtype=tf.float32)\n",
    "            random_crop.append(tf.image.random_crop(images[i], [64, 64, 3]))\n",
    "            label_list1.append(labels[j])\n",
    "\n",
    "    for i in range(len(random_crop)):\n",
    "        for j in range(4):\n",
    "            image_rot.append(tf.image.rot90(random_crop[i],k=random.randint(0,3)))\n",
    "            label_list2.append(label_list1[i])\n",
    "\n",
    "    label_list1 =[]\n",
    "    for i in range(len(image_rot)):\n",
    "        for j in range(2):\n",
    "            random_flip.append(tf.image.random_flip_left_right(image_rot[i]))\n",
    "            label = tf.cast(label_list2[i], tf.int32)\n",
    "            label_list1.append(label.numpy())\n",
    "\n",
    "    for i in range(len(random_flip)):    \n",
    "        im = tf.image.random_brightness(random_flip[i], max_delta=63)\n",
    "        im = tf.image.random_contrast(im,lower=0.2,upper=1.8) \n",
    "#         im = tf.image.per_image_standardization(im) \n",
    "        final.append(im.numpy())\n",
    "    \n",
    "    for final,label_list1 in zip(final,label_list1):\n",
    "        numpy_dict[label_list1] = final\n",
    "    np.save('Preprocess2.npy', numpy_dict)"
   ]
  },
  {
   "cell_type": "code",
   "execution_count": 139,
   "metadata": {},
   "outputs": [],
   "source": [
    "b = np.load('Preprocess2.npy', allow_pickle=True)\n",
    "images1 = []\n",
    "label1 = []\n",
    "for k,v in b.item().items():\n",
    "    images1.append(v)\n",
    "    label1.append(k)\n",
    "    "
   ]
  },
  {
   "cell_type": "code",
   "execution_count": 140,
   "metadata": {},
   "outputs": [],
   "source": [
    "read_galaxy(images,label)\n",
    "# len(im), len(lb)"
   ]
  },
  {
   "cell_type": "code",
   "execution_count": 141,
   "metadata": {},
   "outputs": [
    {
     "data": {
      "image/png": "[encoded data removed]",
      "text/plain": [
       "<PIL.Image.Image image mode=RGB size=64x64 at 0x7F2C4216B588>"
      ]
     },
     "execution_count": 141,
     "metadata": {},
     "output_type": "execute_result"
    }
   ],
   "source": [
    "Image.fromarray(np.uint8(images1[2]))"
   ]
  },
  {
   "cell_type": "code",
   "execution_count": null,
   "metadata": {},
   "outputs": [],
   "source": []
  },
  {
   "cell_type": "code",
   "execution_count": null,
   "metadata": {},
   "outputs": [],
   "source": []
  }
 ],
 "metadata": {
  "kernelspec": {
   "display_name": "Python 3",
   "language": "python",
   "name": "python3"
  },
  "language_info": {
   "codemirror_mode": {
    "name": "ipython",
    "version": 3
   },
   "file_extension": ".py",
   "mimetype": "text/x-python",
   "name": "python",
   "nbconvert_exporter": "python",
   "pygments_lexer": "ipython3",
   "version": "3.6.8"
  }
 },
 "nbformat": 4,
 "nbformat_minor": 4
}
